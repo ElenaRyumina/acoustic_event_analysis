{
 "cells": [
  {
   "cell_type": "code",
   "execution_count": 0,
   "metadata": {
    "colab": {},
    "colab_type": "code",
    "id": "q5GNXw_Yte1y"
   },
   "outputs": [],
   "source": [
    "# импорт библиотек\n",
    "import numpy as np\n",
    "import pickle\n",
    "import torch\n",
    "import torch.nn as nn\n",
    "import torch.nn.functional as F\n",
    "\n",
    "from google.colab import drive\n",
    "from google.colab import drive\n",
    "from sklearn.metrics import classification_report"
   ]
  },
  {
   "cell_type": "code",
   "execution_count": 0,
   "metadata": {
    "colab": {
     "base_uri": "https://localhost:8080/",
     "height": 122
    },
    "colab_type": "code",
    "executionInfo": {
     "elapsed": 30467,
     "status": "ok",
     "timestamp": 1585559057422,
     "user": {
      "displayName": "Елена Рюмина",
      "photoUrl": "",
      "userId": "15028665328268577386"
     },
     "user_tz": -180
    },
    "id": "i8iEYmvsuAO-",
    "outputId": "15114893-f24c-4064-89a9-d005a1d58618"
   },
   "outputs": [
    {
     "name": "stdout",
     "output_type": "stream",
     "text": [
      "Go to this URL in a browser: https://accounts.google.com/o/oauth2/auth?client_id=947318989803-6bn6qk8qdgf4n4g3pfee6491hc0brc4i.apps.googleusercontent.com&redirect_uri=urn%3aietf%3awg%3aoauth%3a2.0%3aoob&response_type=code&scope=email%20https%3a%2f%2fwww.googleapis.com%2fauth%2fdocs.test%20https%3a%2f%2fwww.googleapis.com%2fauth%2fdrive%20https%3a%2f%2fwww.googleapis.com%2fauth%2fdrive.photos.readonly%20https%3a%2f%2fwww.googleapis.com%2fauth%2fpeopleapi.readonly\n",
      "\n",
      "Enter your authorization code:\n",
      "··········\n",
      "Mounted at /content/gdrive\n"
     ]
    }
   ],
   "source": [
    "# обращаемся гугл диску\n",
    "drive.mount('/content/gdrive')\n",
    "\n",
    "# !ls -la \"/content/gdrive/My Drive/acoustic_event_analysis\""
   ]
  },
  {
   "cell_type": "code",
   "execution_count": 0,
   "metadata": {
    "colab": {},
    "colab_type": "code",
    "id": "37ueIcQRuFvx"
   },
   "outputs": [],
   "source": [
    "# путь к файлам\n",
    "path = \"/content/gdrive/My Drive/acoustic_event_analysis/\""
   ]
  },
  {
   "cell_type": "code",
   "execution_count": 0,
   "metadata": {
    "colab": {},
    "colab_type": "code",
    "id": "Ae7qmUstopjO"
   },
   "outputs": [],
   "source": [
    "# считываем дынные из файла\n",
    "with open(path + 'all_data_mel.pickle', 'rb') as f:\n",
    "  all_data_mel = pickle.load(f)"
   ]
  },
  {
   "cell_type": "code",
   "execution_count": 0,
   "metadata": {
    "colab": {},
    "colab_type": "code",
    "id": "8gkDhdCLor-h"
   },
   "outputs": [],
   "source": [
    "# приводим признаки к одной длине\n",
    "# определяем максимальную длину\n",
    "max_column = max([x.shape[1] for x in all_data_mel])\n",
    "# max_line = max([x.shape[0] for x in all_data_mel])\n",
    "for i in range(len(all_data_mel)):\n",
    "  # создаем нулевой массив с недостающими нулями\n",
    "  zero = np.zeros((all_data_mel[i].shape[0], max_column - all_data_mel[i].shape[1]))\n",
    "  # конкатенируем массивы\n",
    "  all_data_mel[i] = np.hstack((all_data_mel[i], zero))"
   ]
  },
  {
   "cell_type": "code",
   "execution_count": 0,
   "metadata": {
    "colab": {},
    "colab_type": "code",
    "id": "Ze_1clSmoxBg"
   },
   "outputs": [],
   "source": [
    "# сохранаем all_data\n",
    "with open(path + 'array_norm_data_mel.pickle', 'wb') as f_data:\n",
    "    pickle.dump(norm_data_mel, f_data)"
   ]
  },
  {
   "cell_type": "code",
   "execution_count": 0,
   "metadata": {
    "colab": {},
    "colab_type": "code",
    "id": "iByrsirDuMQz"
   },
   "outputs": [],
   "source": [
    "# подгружаем сохраненные признаки и метки\n",
    "with open(path + 'array_norm_data_mel.pickle', 'rb') as f:\n",
    "    X = pickle.load(f)\n",
    "  \n",
    "with open(path + 'all_label.pickle', 'rb') as f:\n",
    "  y = pickle.load(f)"
   ]
  },
  {
   "cell_type": "code",
   "execution_count": 0,
   "metadata": {
    "colab": {},
    "colab_type": "code",
    "id": "mfaweceGucug"
   },
   "outputs": [],
   "source": [
    "# разбиваем признаки и метки на test и train\n",
    "# для этого необходимо создать словарь, где ключь - это метки, \n",
    "# значения - это список массивов признаков для каждой метки\n",
    "all_dict = {}\n",
    "for i in range(len(X)):\n",
    "    if y[i] in all_dict:\n",
    "        all_dict.update({y[i]: all_dict[y[i]] + [X[i]]})\n",
    "    else:\n",
    "        all_dict.update({y[i]: [X[i]]}) "
   ]
  },
  {
   "cell_type": "code",
   "execution_count": 0,
   "metadata": {
    "colab": {},
    "colab_type": "code",
    "id": "9vVjqkM6u3J7"
   },
   "outputs": [],
   "source": [
    "# делим данные на test(30%), train(70%)\n",
    "train_data = []\n",
    "train_label = []\n",
    "test_data = []\n",
    "test_label = []\n",
    "\n",
    "for k_new_dict, v_new_dict in all_dict.items():\n",
    "  count = 0\n",
    "  for i in v_new_dict:\n",
    "    count += 1\n",
    "    if count <= round(len(v_new_dict)*0.7):\n",
    "      train_data.append(i) # добавляем в словарь массив признаков\n",
    "      train_label.append(k_new_dict) # добавляем в словарь метку массива признаков\n",
    "    else:\n",
    "      test_data.append(i) # добавляем в словарь массив признаков\n",
    "      test_label.append(k_new_dict)  # добавляем в словарь метку массива признаков"
   ]
  },
  {
   "cell_type": "code",
   "execution_count": 0,
   "metadata": {
    "colab": {
     "base_uri": "https://localhost:8080/",
     "height": 51
    },
    "colab_type": "code",
    "executionInfo": {
     "elapsed": 34758,
     "status": "ok",
     "timestamp": 1585559098796,
     "user": {
      "displayName": "Елена Рюмина",
      "photoUrl": "",
      "userId": "15028665328268577386"
     },
     "user_tz": -180
    },
    "id": "HaiklDwlu81k",
    "outputId": "eb9cad79-e1f2-4c0c-98ce-e06af203b4bd"
   },
   "outputs": [
    {
     "name": "stdout",
     "output_type": "stream",
     "text": [
      "3978 3978\n",
      "1705 1705\n"
     ]
    }
   ],
   "source": [
    "print(len(train_data), len(train_label))\n",
    "print(len(test_data), len(test_label))"
   ]
  },
  {
   "cell_type": "code",
   "execution_count": 0,
   "metadata": {
    "colab": {
     "base_uri": "https://localhost:8080/",
     "height": 102
    },
    "colab_type": "code",
    "executionInfo": {
     "elapsed": 36544,
     "status": "ok",
     "timestamp": 1585559101468,
     "user": {
      "displayName": "Елена Рюмина",
      "photoUrl": "",
      "userId": "15028665328268577386"
     },
     "user_tz": -180
    },
    "id": "L_2B2P70u--a",
    "outputId": "a2fcbbdb-092a-453c-ade7-f9efa6d816f3"
   },
   "outputs": [
    {
     "name": "stdout",
     "output_type": "stream",
     "text": [
      "Форма обучающих признаков: torch.Size([3978, 1, 128, 469])\n",
      "Форма тестовых признаков: torch.Size([1705, 1, 128, 469])\n",
      "Форма обучающих меток: torch.Size([3978])\n",
      "Форма тестовых меток: torch.Size([1705])\n",
      " \n"
     ]
    }
   ],
   "source": [
    "# Приводим метки и признаки к нужному формату\n",
    "\n",
    "# преобразуем метки из списков в массивы\n",
    "y_train_new = np.asarray(train_label)\n",
    "y_test_new = np.asarray(test_label)\n",
    "\n",
    "# преобразуем признаки из списков в массивы\n",
    "train_data_new = np.asarray(train_data, dtype=np.float32)\n",
    "test_data_new = np.asarray(test_data, dtype=np.float32)\n",
    "\n",
    "train_data_new = np.expand_dims(train_data_new, 1)\n",
    "test_data_new = np.expand_dims(test_data_new, 1)\n",
    "\n",
    "# формируем тензоры\n",
    "inputs_train_new = torch.from_numpy(train_data_new)\n",
    "inputs_test_new = torch.from_numpy(test_data_new)\n",
    "labels_train = torch.from_numpy(y_train_new)\n",
    "labels_test = torch.from_numpy(y_test_new)\n",
    "\n",
    "print('Форма обучающих признаков: {}\\nФорма тестовых признаков: {}\\nФорма обучающих меток: {}\\nФорма тестовых меток: {}\\n '\n",
    "      .format(inputs_train_new.shape, inputs_test_new.shape, labels_train.shape, labels_test.shape))"
   ]
  },
  {
   "cell_type": "code",
   "execution_count": 0,
   "metadata": {
    "colab": {},
    "colab_type": "code",
    "id": "qNkoNE2lwmvt"
   },
   "outputs": [],
   "source": [
    "# задаем параметры для сети\n",
    "\n",
    "num_epochs = 100\n",
    "num_classes = 41\n",
    "batch_size = 100\n",
    "learning_rate = 0.001"
   ]
  },
  {
   "cell_type": "code",
   "execution_count": 0,
   "metadata": {
    "colab": {},
    "colab_type": "code",
    "id": "prSOZM2lw-Jg"
   },
   "outputs": [],
   "source": [
    "# создаем архитектуру сети\n",
    "\n",
    "class ConvNet(nn.Module):\n",
    "    # вариант 1\n",
    "    def __init__(self):\n",
    "        super(ConvNet, self).__init__()\n",
    "        self.layer1 = nn.Sequential(\n",
    "            nn.Conv2d(1, 16, kernel_size=5, stride=1, padding=2),\n",
    "            nn.ReLU(),\n",
    "            nn.MaxPool2d(kernel_size=2, stride=2))\n",
    "        self.layer2 = nn.Sequential(\n",
    "            nn.Conv2d(16, 32, kernel_size=5, stride=1, padding=2),\n",
    "            nn.ReLU(),\n",
    "            nn.MaxPool2d(kernel_size=2, stride=2))\n",
    "        self.drop_out = nn.Dropout()\n",
    "        self.fc1 = nn.Linear(32 * 117 * 32, 1000)\n",
    "        self.fc2 = nn.Linear(1000, 41)\n",
    "\n",
    "    def forward(self, x):\n",
    "        out = self.layer1(x)\n",
    "        out = self.layer2(out)\n",
    "        out = out.reshape(out.size(0), -1)\n",
    "        out = self.drop_out(out)\n",
    "        out = self.fc1(out)\n",
    "        out = self.fc2(out)\n",
    "        return out\n",
    "    ## вариант 2\n",
    "    # def __init__(self):\n",
    "    #     super(ConvNet, self).__init__()\n",
    "    #     self.conv1 = nn.Conv2d(1, 6, 5)\n",
    "    #     self.pool = nn.MaxPool2d(2, 2)\n",
    "    #     self.conv2 = nn.Conv2d(6, 16, 5)\n",
    "    #     self.drop_out = nn.Dropout()\n",
    "    #     self.fc1 = nn.Linear(16 * 29 * 114, 100)\n",
    "    #     # self.fc2 = nn.Linear(100, 50)\n",
    "    #     self.fc3 = nn.Linear(100, 41)\n",
    "\n",
    "    # def forward(self, x):\n",
    "    #     x = self.pool(F.relu(self.conv1(x)))\n",
    "    #     x = self.pool(F.relu(self.conv2(x)))\n",
    "    #     x = x.reshape(x.size(0), -1)\n",
    "    #     x = self.drop_out(x)\n",
    "    #     x = F.relu(self.fc1(x))\n",
    "    #     # x = F.relu(self.fc2(x))\n",
    "    #     x = self.fc3(x)\n",
    "    #     return x\n",
    "\n",
    "model = ConvNet()"
   ]
  },
  {
   "cell_type": "code",
   "execution_count": 14,
   "metadata": {
    "colab": {
     "base_uri": "https://localhost:8080/",
     "height": 1000
    },
    "colab_type": "code",
    "executionInfo": {
     "elapsed": 16581145,
     "status": "ok",
     "timestamp": 1585595506311,
     "user": {
      "displayName": "Елена Рюмина",
      "photoUrl": "",
      "userId": "15028665328268577386"
     },
     "user_tz": -180
    },
    "id": "QjjeHffWxwHu",
    "outputId": "be52f117-4d4e-4fd1-9d9c-a8b53484cc78"
   },
   "outputs": [
    {
     "name": "stdout",
     "output_type": "stream",
     "text": [
      "Epoch [1/100], Step [0-100/3978], Loss: 3.6713, Accuracy: 4.00%\n",
      "Epoch [2/100], Step [0-100/3978], Loss: 3.6689, Accuracy: 44.00%\n",
      "Epoch [3/100], Step [0-100/3978], Loss: 3.6721, Accuracy: 44.00%\n",
      "Epoch [4/100], Step [0-100/3978], Loss: 3.6783, Accuracy: 44.00%\n",
      "Epoch [5/100], Step [0-100/3978], Loss: 3.6901, Accuracy: 1.00%\n",
      "Epoch [6/100], Step [0-100/3978], Loss: 3.7195, Accuracy: 2.00%\n",
      "Epoch [7/100], Step [0-100/3978], Loss: 3.7104, Accuracy: 1.00%\n",
      "Epoch [8/100], Step [0-100/3978], Loss: 3.6963, Accuracy: 4.00%\n",
      "Epoch [9/100], Step [0-100/3978], Loss: 3.6296, Accuracy: 4.00%\n",
      "Epoch [10/100], Step [0-100/3978], Loss: 3.7030, Accuracy: 7.00%\n",
      "Epoch [11/100], Step [0-100/3978], Loss: 3.6669, Accuracy: 5.00%\n",
      "Epoch [12/100], Step [0-100/3978], Loss: 3.6482, Accuracy: 6.00%\n",
      "Epoch [13/100], Step [0-100/3978], Loss: 3.6424, Accuracy: 5.00%\n",
      "Epoch [14/100], Step [0-100/3978], Loss: 3.6722, Accuracy: 5.00%\n",
      "Epoch [15/100], Step [0-100/3978], Loss: 3.5873, Accuracy: 6.00%\n",
      "Epoch [16/100], Step [0-100/3978], Loss: 3.5908, Accuracy: 8.00%\n",
      "Epoch [17/100], Step [0-100/3978], Loss: 3.6326, Accuracy: 6.00%\n",
      "Epoch [18/100], Step [0-100/3978], Loss: 3.6173, Accuracy: 8.00%\n",
      "Epoch [19/100], Step [0-100/3978], Loss: 3.7046, Accuracy: 5.00%\n",
      "Epoch [20/100], Step [0-100/3978], Loss: 3.5817, Accuracy: 8.00%\n",
      "Epoch [21/100], Step [0-100/3978], Loss: 3.7403, Accuracy: 5.00%\n",
      "Epoch [22/100], Step [0-100/3978], Loss: 3.5961, Accuracy: 7.00%\n",
      "Epoch [23/100], Step [0-100/3978], Loss: 3.7286, Accuracy: 6.00%\n",
      "Epoch [24/100], Step [0-100/3978], Loss: 3.5421, Accuracy: 9.00%\n",
      "Epoch [25/100], Step [0-100/3978], Loss: 3.8558, Accuracy: 6.00%\n",
      "Epoch [26/100], Step [0-100/3978], Loss: 3.6023, Accuracy: 7.00%\n",
      "Epoch [27/100], Step [0-100/3978], Loss: 3.5022, Accuracy: 9.00%\n",
      "Epoch [28/100], Step [0-100/3978], Loss: 3.6577, Accuracy: 4.00%\n",
      "Epoch [29/100], Step [0-100/3978], Loss: 3.6647, Accuracy: 5.00%\n",
      "Epoch [30/100], Step [0-100/3978], Loss: 3.5923, Accuracy: 8.00%\n",
      "Epoch [31/100], Step [0-100/3978], Loss: 3.5802, Accuracy: 6.00%\n",
      "Epoch [32/100], Step [0-100/3978], Loss: 3.5562, Accuracy: 9.00%\n",
      "Epoch [33/100], Step [0-100/3978], Loss: 3.4989, Accuracy: 8.00%\n",
      "Epoch [34/100], Step [0-100/3978], Loss: 3.4674, Accuracy: 9.00%\n",
      "Epoch [35/100], Step [0-100/3978], Loss: 3.5633, Accuracy: 8.00%\n",
      "Epoch [36/100], Step [0-100/3978], Loss: 3.6719, Accuracy: 7.00%\n",
      "Epoch [37/100], Step [0-100/3978], Loss: 3.5151, Accuracy: 8.00%\n",
      "Epoch [38/100], Step [0-100/3978], Loss: 3.4636, Accuracy: 10.00%\n",
      "Epoch [39/100], Step [0-100/3978], Loss: 3.5180, Accuracy: 8.00%\n",
      "Epoch [40/100], Step [0-100/3978], Loss: 3.4829, Accuracy: 8.00%\n",
      "Epoch [41/100], Step [0-100/3978], Loss: 3.6467, Accuracy: 10.00%\n",
      "Epoch [42/100], Step [0-100/3978], Loss: 3.3011, Accuracy: 13.00%\n",
      "Epoch [43/100], Step [0-100/3978], Loss: 3.3283, Accuracy: 13.00%\n",
      "Epoch [44/100], Step [0-100/3978], Loss: 3.2968, Accuracy: 13.00%\n",
      "Epoch [45/100], Step [0-100/3978], Loss: 3.3224, Accuracy: 12.00%\n",
      "Epoch [46/100], Step [0-100/3978], Loss: 3.5350, Accuracy: 12.00%\n",
      "Epoch [47/100], Step [0-100/3978], Loss: 3.4016, Accuracy: 10.00%\n",
      "Epoch [48/100], Step [0-100/3978], Loss: 3.2978, Accuracy: 13.00%\n",
      "Epoch [49/100], Step [0-100/3978], Loss: 3.2681, Accuracy: 11.00%\n",
      "Epoch [50/100], Step [0-100/3978], Loss: 3.3438, Accuracy: 10.00%\n",
      "Epoch [51/100], Step [0-100/3978], Loss: 3.2161, Accuracy: 13.00%\n",
      "Epoch [52/100], Step [0-100/3978], Loss: 3.2992, Accuracy: 14.00%\n",
      "Epoch [53/100], Step [0-100/3978], Loss: 3.0851, Accuracy: 14.00%\n",
      "Epoch [54/100], Step [0-100/3978], Loss: 3.1320, Accuracy: 17.00%\n",
      "Epoch [55/100], Step [0-100/3978], Loss: 3.0605, Accuracy: 18.00%\n",
      "Epoch [56/100], Step [0-100/3978], Loss: 3.1075, Accuracy: 13.00%\n",
      "Epoch [57/100], Step [0-100/3978], Loss: 3.0530, Accuracy: 19.00%\n",
      "Epoch [58/100], Step [0-100/3978], Loss: 3.1310, Accuracy: 13.00%\n",
      "Epoch [59/100], Step [0-100/3978], Loss: 3.1021, Accuracy: 17.00%\n",
      "Epoch [60/100], Step [0-100/3978], Loss: 3.2341, Accuracy: 17.00%\n",
      "Epoch [61/100], Step [0-100/3978], Loss: 3.0628, Accuracy: 15.00%\n",
      "Epoch [62/100], Step [0-100/3978], Loss: 3.0156, Accuracy: 16.00%\n",
      "Epoch [63/100], Step [0-100/3978], Loss: 3.0217, Accuracy: 18.00%\n",
      "Epoch [64/100], Step [0-100/3978], Loss: 2.9346, Accuracy: 21.00%\n",
      "Epoch [65/100], Step [0-100/3978], Loss: 2.9981, Accuracy: 21.00%\n",
      "Epoch [66/100], Step [0-100/3978], Loss: 2.8629, Accuracy: 23.00%\n",
      "Epoch [67/100], Step [0-100/3978], Loss: 2.8957, Accuracy: 19.00%\n",
      "Epoch [68/100], Step [0-100/3978], Loss: 2.8283, Accuracy: 22.00%\n",
      "Epoch [69/100], Step [0-100/3978], Loss: 2.8849, Accuracy: 20.00%\n",
      "Epoch [70/100], Step [0-100/3978], Loss: 2.8626, Accuracy: 20.00%\n",
      "Epoch [71/100], Step [0-100/3978], Loss: 2.8911, Accuracy: 22.00%\n",
      "Epoch [72/100], Step [0-100/3978], Loss: 2.7560, Accuracy: 23.00%\n",
      "Epoch [73/100], Step [0-100/3978], Loss: 2.8282, Accuracy: 22.00%\n",
      "Epoch [74/100], Step [0-100/3978], Loss: 2.8216, Accuracy: 19.00%\n",
      "Epoch [75/100], Step [0-100/3978], Loss: 2.6950, Accuracy: 25.00%\n",
      "Epoch [76/100], Step [0-100/3978], Loss: 2.6669, Accuracy: 27.00%\n",
      "Epoch [77/100], Step [0-100/3978], Loss: 2.6353, Accuracy: 26.00%\n",
      "Epoch [78/100], Step [0-100/3978], Loss: 2.8367, Accuracy: 23.00%\n",
      "Epoch [79/100], Step [0-100/3978], Loss: 2.5602, Accuracy: 28.00%\n",
      "Epoch [80/100], Step [0-100/3978], Loss: 2.5073, Accuracy: 30.00%\n",
      "Epoch [81/100], Step [0-100/3978], Loss: 2.3249, Accuracy: 33.00%\n",
      "Epoch [82/100], Step [0-100/3978], Loss: 2.5049, Accuracy: 28.00%\n",
      "Epoch [83/100], Step [0-100/3978], Loss: 2.2155, Accuracy: 40.00%\n",
      "Epoch [84/100], Step [0-100/3978], Loss: 2.2043, Accuracy: 39.00%\n",
      "Epoch [85/100], Step [0-100/3978], Loss: 2.3224, Accuracy: 32.00%\n",
      "Epoch [86/100], Step [0-100/3978], Loss: 2.0572, Accuracy: 44.00%\n",
      "Epoch [87/100], Step [0-100/3978], Loss: 2.1390, Accuracy: 44.00%\n",
      "Epoch [88/100], Step [0-100/3978], Loss: 2.0645, Accuracy: 41.00%\n",
      "Epoch [89/100], Step [0-100/3978], Loss: 2.0730, Accuracy: 41.00%\n",
      "Epoch [90/100], Step [0-100/3978], Loss: 2.0521, Accuracy: 44.00%\n",
      "Epoch [91/100], Step [0-100/3978], Loss: 2.0600, Accuracy: 45.00%\n",
      "Epoch [92/100], Step [0-100/3978], Loss: 2.1286, Accuracy: 40.00%\n",
      "Epoch [93/100], Step [0-100/3978], Loss: 2.2336, Accuracy: 36.00%\n",
      "Epoch [94/100], Step [0-100/3978], Loss: 2.3109, Accuracy: 42.00%\n",
      "Epoch [95/100], Step [0-100/3978], Loss: 1.9038, Accuracy: 45.00%\n",
      "Epoch [96/100], Step [0-100/3978], Loss: 1.8215, Accuracy: 46.00%\n",
      "Epoch [97/100], Step [0-100/3978], Loss: 1.9950, Accuracy: 46.00%\n",
      "Epoch [98/100], Step [0-100/3978], Loss: 1.7760, Accuracy: 50.00%\n",
      "Epoch [99/100], Step [0-100/3978], Loss: 1.8522, Accuracy: 47.00%\n",
      "Epoch [100/100], Step [0-100/3978], Loss: 1.6504, Accuracy: 52.00%\n"
     ]
    }
   ],
   "source": [
    "criterion = nn.CrossEntropyLoss() # уже встроена функция активации softmax\n",
    "optimizer = torch.optim.Adam(model.parameters(), lr=learning_rate)\n",
    "\n",
    "# Train the model\n",
    "total_step = len(inputs_train_new)\n",
    "loss_list = []\n",
    "acc_list = []\n",
    "for epoch in range(num_epochs):\n",
    "\n",
    "    current_step = 1\n",
    "    finish = 0\n",
    "    for i in range(0, len(inputs_train_new), batch_size):\n",
    "      if len(inputs_train_new) - i <= batch_size:\n",
    "        start = i\n",
    "        finish = len(inputs_train_new)\n",
    "      else:\n",
    "        start = i\n",
    "        finish += batch_size\n",
    "      # Run the forward pass\n",
    "      outputs = model(inputs_train_new[start:finish])\n",
    "      loss = criterion(outputs, labels_train[start:finish])\n",
    "      loss_list.append(loss.item())\n",
    "\n",
    "      # Backprop and perform Adam optimisation\n",
    "      optimizer.zero_grad()\n",
    "      loss.backward()\n",
    "      optimizer.step()\n",
    "\n",
    "      # Track the accuracy\n",
    "      total = len(labels_train[start:finish])\n",
    "      _, predicted = torch.max(outputs.data, 1)\n",
    "      correct = (predicted == labels_train[start:finish]).sum().item()\n",
    "      acc_list.append(correct / total)\n",
    "\n",
    "      if i % total_step == 0:\n",
    "        print('Epoch [{}/{}], Step [{}-{}/{}], Loss: {:.4f}, Accuracy: {:.2f}%'\n",
    "              .format(epoch + 1, num_epochs, i, finish, total_step, loss.item(),\n",
    "                      (correct / total) * 100))"
   ]
  },
  {
   "cell_type": "code",
   "execution_count": 15,
   "metadata": {
    "colab": {
     "base_uri": "https://localhost:8080/",
     "height": 34
    },
    "colab_type": "code",
    "executionInfo": {
     "elapsed": 42451,
     "status": "ok",
     "timestamp": 1585595548746,
     "user": {
      "displayName": "Елена Рюмина",
      "photoUrl": "",
      "userId": "15028665328268577386"
     },
     "user_tz": -180
    },
    "id": "vuEDKIDDydM1",
    "outputId": "24ce8d98-3753-401e-9418-a0e1de5ff80e"
   },
   "outputs": [
    {
     "name": "stdout",
     "output_type": "stream",
     "text": [
      "Accuracy of the network on the 1705 test images: 22.93%\n"
     ]
    }
   ],
   "source": [
    "# Тестирум модель\n",
    "correct = 0\n",
    "total = len(labels_test)\n",
    "y_pred_all = []\n",
    "with torch.no_grad():\n",
    "    finish = 0\n",
    "    for i in range(0, total, batch_size):\n",
    "      # print(i)\n",
    "      if total - i <= batch_size:\n",
    "        start = i\n",
    "        finish = total\n",
    "      else:\n",
    "        start = i\n",
    "        finish += batch_size\n",
    "      outputs = model(inputs_test_new[start:finish])\n",
    "      _, predicted = torch.max(outputs, 1)\n",
    "      y_pred_all.append([x for x in predicted.data.numpy()])\n",
    "      correct += (predicted == labels_test[start:finish]).sum().item()\n",
    "\n",
    "print('Accuracy of the network on the {} test images: {:.2f}%'.format(total, 100*(correct/total)))"
   ]
  },
  {
   "cell_type": "code",
   "execution_count": 16,
   "metadata": {
    "colab": {
     "base_uri": "https://localhost:8080/",
     "height": 34
    },
    "colab_type": "code",
    "executionInfo": {
     "elapsed": 56,
     "status": "ok",
     "timestamp": 1585595548748,
     "user": {
      "displayName": "Елена Рюмина",
      "photoUrl": "",
      "userId": "15028665328268577386"
     },
     "user_tz": -180
    },
    "id": "W0PqlenLym6Z",
    "outputId": "ff437d2d-d388-48b9-ac98-dc4ea185ab02"
   },
   "outputs": [
    {
     "data": {
      "text/plain": [
       "1705"
      ]
     },
     "execution_count": 16,
     "metadata": {
      "tags": []
     },
     "output_type": "execute_result"
    }
   ],
   "source": [
    "# преобразуем список предсказаний\n",
    "y_pred_list = [y for x in y_pred_all for y in x]\n",
    "len(y_pred_list)"
   ]
  },
  {
   "cell_type": "code",
   "execution_count": 17,
   "metadata": {
    "colab": {
     "base_uri": "https://localhost:8080/",
     "height": 833
    },
    "colab_type": "code",
    "executionInfo": {
     "elapsed": 51,
     "status": "ok",
     "timestamp": 1585595548748,
     "user": {
      "displayName": "Елена Рюмина",
      "photoUrl": "",
      "userId": "15028665328268577386"
     },
     "user_tz": -180
    },
    "id": "3mCPAyPEy0dN",
    "outputId": "b5f69a6d-f393-400e-b985-eb954670db6d"
   },
   "outputs": [
    {
     "name": "stdout",
     "output_type": "stream",
     "text": [
      "              precision    recall  f1-score   support\n",
      "\n",
      "           0     0.5000    0.2083    0.2941        24\n",
      "           1     0.1111    0.0784    0.0920        51\n",
      "           2     0.3000    0.1250    0.1765        24\n",
      "           3     0.1250    0.0769    0.0952        26\n",
      "           4     0.4286    0.2885    0.3448        52\n",
      "           5     0.1273    0.1250    0.1261        56\n",
      "           6     0.0000    0.0000    0.0000        20\n",
      "           7     0.2857    0.3774    0.3252        53\n",
      "           8     0.1364    0.0577    0.0811        52\n",
      "           9     0.1111    0.0816    0.0941        49\n",
      "          10     0.4035    0.4182    0.4107        55\n",
      "          11     0.1429    0.1091    0.1237        55\n",
      "          12     0.1667    0.1957    0.1800        46\n",
      "          13     0.7222    0.4815    0.5778        54\n",
      "          14     0.5926    0.4571    0.5161        35\n",
      "          15     0.2857    0.1176    0.1667        17\n",
      "          16     0.4286    0.6316    0.5106        57\n",
      "          17     0.1034    0.0556    0.0723        54\n",
      "          18     0.1489    0.1458    0.1474        48\n",
      "          19     0.0541    0.0816    0.0650        49\n",
      "          20     0.1250    0.1481    0.1356        54\n",
      "          21     0.1111    0.0909    0.1000        44\n",
      "          22     0.0000    0.0000    0.0000        25\n",
      "          23     0.2308    0.2069    0.2182        58\n",
      "          24     0.1351    0.1667    0.1493        30\n",
      "          25     0.4074    0.4490    0.4272        49\n",
      "          26     0.3273    0.3214    0.3243        56\n",
      "          27     0.2653    0.2407    0.2524        54\n",
      "          28     0.1333    0.1695    0.1493        59\n",
      "          29     0.3125    0.2941    0.3030        34\n",
      "          30     0.1667    0.1071    0.1304        28\n",
      "          31     0.1176    0.0741    0.0909        27\n",
      "          32     0.3467    0.4643    0.3969        56\n",
      "          33     0.1737    0.7073    0.2788        41\n",
      "          34     0.2500    0.2037    0.2245        54\n",
      "          35     0.1159    0.1600    0.1345        50\n",
      "          36     0.1786    0.1923    0.1852        26\n",
      "          37     0.2000    0.1667    0.1818        24\n",
      "          38     0.6667    0.1053    0.1818        19\n",
      "          39     0.1667    0.0588    0.0870        17\n",
      "          40     0.1304    0.1304    0.1304        23\n",
      "\n",
      "    accuracy                         0.2293      1705\n",
      "   macro avg     0.2374    0.2090    0.2069      1705\n",
      "weighted avg     0.2400    0.2293    0.2223      1705\n",
      "\n"
     ]
    }
   ],
   "source": [
    "# выводим метрики\n",
    "print(classification_report(test_label, y_pred_list, digits = 4))"
   ]
  },
  {
   "cell_type": "markdown",
   "metadata": {
    "colab_type": "text",
    "id": "WwUXHUOB3XES"
   },
   "source": [
    "Для сравнения подгрузим ранее полученные матрики при использовании\n",
    "класификатора SVM"
   ]
  },
  {
   "cell_type": "code",
   "execution_count": 0,
   "metadata": {
    "colab": {},
    "colab_type": "code",
    "id": "_lWiJoZh4aTh"
   },
   "outputs": [],
   "source": [
    "prediction_test = np.load(path + 'prediction_test_v1.npy')"
   ]
  },
  {
   "cell_type": "code",
   "execution_count": 0,
   "metadata": {
    "colab": {},
    "colab_type": "code",
    "id": "jHikT2b15R5K"
   },
   "outputs": [],
   "source": [
    "# считываем метки из файла\n",
    "with open(path + 'label_test.pickle', 'rb') as f:\n",
    "  test_label = pickle.load(f)"
   ]
  },
  {
   "cell_type": "code",
   "execution_count": 23,
   "metadata": {
    "colab": {
     "base_uri": "https://localhost:8080/",
     "height": 833
    },
    "colab_type": "code",
    "executionInfo": {
     "elapsed": 1205,
     "status": "ok",
     "timestamp": 1585596189324,
     "user": {
      "displayName": "Елена Рюмина",
      "photoUrl": "",
      "userId": "15028665328268577386"
     },
     "user_tz": -180
    },
    "id": "nRvh8SOh5UIW",
    "outputId": "f7761223-8d6d-4d5a-ad99-51e001ab6fd7"
   },
   "outputs": [
    {
     "name": "stdout",
     "output_type": "stream",
     "text": [
      "              precision    recall  f1-score   support\n",
      "\n",
      "           0     0.6842    0.5417    0.6047        24\n",
      "           1     0.1250    0.0392    0.0597        51\n",
      "           2     0.1176    0.2500    0.1600        24\n",
      "           3     0.0500    0.0385    0.0435        26\n",
      "           4     0.6000    0.4615    0.5217        52\n",
      "           5     0.2609    0.1071    0.1519        56\n",
      "           6     0.1154    0.1500    0.1304        20\n",
      "           7     0.1385    0.3396    0.1967        53\n",
      "           8     0.0938    0.0577    0.0714        52\n",
      "           9     0.1765    0.0612    0.0909        49\n",
      "          10     0.2721    0.6727    0.3874        55\n",
      "          11     0.2344    0.2727    0.2521        55\n",
      "          12     0.1216    0.1957    0.1500        46\n",
      "          13     0.6333    0.7037    0.6667        54\n",
      "          14     0.9048    0.5429    0.6786        35\n",
      "          15     0.7500    0.3529    0.4800        17\n",
      "          16     0.3770    0.4035    0.3898        57\n",
      "          17     0.3333    0.0741    0.1212        54\n",
      "          18     0.3571    0.1042    0.1613        48\n",
      "          19     0.3750    0.0612    0.1053        49\n",
      "          20     0.2480    0.5741    0.3464        54\n",
      "          21     0.0000    0.0000    0.0000        44\n",
      "          22     0.0909    0.0400    0.0556        25\n",
      "          23     0.1552    0.1552    0.1552        58\n",
      "          24     0.0000    0.0000    0.0000        30\n",
      "          25     0.3594    0.4694    0.4071        49\n",
      "          26     0.2500    0.1964    0.2200        56\n",
      "          27     0.5758    0.3519    0.4368        54\n",
      "          28     0.1081    0.2712    0.1546        59\n",
      "          29     0.3548    0.3235    0.3385        34\n",
      "          30     0.0000    0.0000    0.0000        28\n",
      "          31     0.0769    0.0370    0.0500        27\n",
      "          32     0.5143    0.3214    0.3956        56\n",
      "          33     0.2522    0.7073    0.3718        41\n",
      "          34     0.5556    0.0926    0.1587        54\n",
      "          35     0.1714    0.1200    0.1412        50\n",
      "          36     0.0781    0.1923    0.1111        26\n",
      "          37     0.0556    0.0417    0.0476        24\n",
      "          38     0.0556    0.1053    0.0727        19\n",
      "          39     0.2500    0.0588    0.0952        17\n",
      "          40     0.1818    0.0870    0.1176        23\n",
      "\n",
      "    accuracy                         0.2516      1705\n",
      "   macro avg     0.2696    0.2335    0.2219      1705\n",
      "weighted avg     0.2824    0.2516    0.2350      1705\n",
      "\n"
     ]
    }
   ],
   "source": [
    "print(classification_report(test_label, prediction_test, digits = 4))"
   ]
  },
  {
   "cell_type": "markdown",
   "metadata": {
    "colab_type": "text",
    "id": "APXueira6MxH"
   },
   "source": [
    "Как можно заметить классификация методом SVM показывает \n",
    "f_scora_weighted_avg = 23,5 % что на 1,27% больше\n",
    "чем CNN."
   ]
  }
 ],
 "metadata": {
  "colab": {
   "authorship_tag": "ABX9TyNaAy0sNGrQD0TpIqynyTL5",
   "collapsed_sections": [],
   "name": "a_e_a_cnn_new.ipynb",
   "provenance": []
  },
  "kernelspec": {
   "display_name": "Python 3",
   "language": "python",
   "name": "python3"
  },
  "language_info": {
   "codemirror_mode": {
    "name": "ipython",
    "version": 3
   },
   "file_extension": ".py",
   "mimetype": "text/x-python",
   "name": "python",
   "nbconvert_exporter": "python",
   "pygments_lexer": "ipython3",
   "version": "3.7.3"
  }
 },
 "nbformat": 4,
 "nbformat_minor": 1
}
