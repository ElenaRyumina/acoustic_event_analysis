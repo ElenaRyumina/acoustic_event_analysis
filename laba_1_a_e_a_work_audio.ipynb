{
 "cells": [
  {
   "cell_type": "code",
   "execution_count": 0,
   "metadata": {
    "colab": {},
    "colab_type": "code",
    "id": "7jcZkv4RBlpD"
   },
   "outputs": [],
   "source": [
    "import pandas as pd\n",
    "import numpy as np\n",
    "import pickle\n",
    "import librosa\n",
    "\n",
    "data = pd.read_csv('C:/Users/ryumi/Downloads/audio_train/train/' + 'train.csv')"
   ]
  },
  {
   "cell_type": "code",
   "execution_count": 0,
   "metadata": {
    "colab": {},
    "colab_type": "code",
    "id": "m_-B9nDyBlpO",
    "outputId": "2eaefc55-b198-45ac-ae3a-e7e80e8158cb"
   },
   "outputs": [
    {
     "data": {
      "text/html": [
       "<div>\n",
       "<style scoped>\n",
       "    .dataframe tbody tr th:only-of-type {\n",
       "        vertical-align: middle;\n",
       "    }\n",
       "\n",
       "    .dataframe tbody tr th {\n",
       "        vertical-align: top;\n",
       "    }\n",
       "\n",
       "    .dataframe thead th {\n",
       "        text-align: right;\n",
       "    }\n",
       "</style>\n",
       "<table border=\"1\" class=\"dataframe\">\n",
       "  <thead>\n",
       "    <tr style=\"text-align: right;\">\n",
       "      <th></th>\n",
       "      <th>fname</th>\n",
       "      <th>label</th>\n",
       "    </tr>\n",
       "  </thead>\n",
       "  <tbody>\n",
       "    <tr>\n",
       "      <th>0</th>\n",
       "      <td>8bcbcc394ba64fe85ed4.wav</td>\n",
       "      <td>Finger_snapping</td>\n",
       "    </tr>\n",
       "    <tr>\n",
       "      <th>1</th>\n",
       "      <td>00d77b917e241afa06f1.wav</td>\n",
       "      <td>Squeak</td>\n",
       "    </tr>\n",
       "    <tr>\n",
       "      <th>2</th>\n",
       "      <td>17bb93b73b8e79234cb3.wav</td>\n",
       "      <td>Electric_piano</td>\n",
       "    </tr>\n",
       "    <tr>\n",
       "      <th>3</th>\n",
       "      <td>7d5c7a40a936136da55e.wav</td>\n",
       "      <td>Harmonica</td>\n",
       "    </tr>\n",
       "    <tr>\n",
       "      <th>4</th>\n",
       "      <td>17e0ee7565a33d6c2326.wav</td>\n",
       "      <td>Snare_drum</td>\n",
       "    </tr>\n",
       "    <tr>\n",
       "      <th>...</th>\n",
       "      <td>...</td>\n",
       "      <td>...</td>\n",
       "    </tr>\n",
       "    <tr>\n",
       "      <th>5678</th>\n",
       "      <td>edd5f2d5bdab597ab6f1.wav</td>\n",
       "      <td>Cello</td>\n",
       "    </tr>\n",
       "    <tr>\n",
       "      <th>5679</th>\n",
       "      <td>cc489c6414c2c25bfa6d.wav</td>\n",
       "      <td>Shatter</td>\n",
       "    </tr>\n",
       "    <tr>\n",
       "      <th>5680</th>\n",
       "      <td>ac3177fbe1f9b0155920.wav</td>\n",
       "      <td>Cello</td>\n",
       "    </tr>\n",
       "    <tr>\n",
       "      <th>5681</th>\n",
       "      <td>9da56639ef3113293961.wav</td>\n",
       "      <td>Snare_drum</td>\n",
       "    </tr>\n",
       "    <tr>\n",
       "      <th>5682</th>\n",
       "      <td>caa047e91afbea748125.wav</td>\n",
       "      <td>Fart</td>\n",
       "    </tr>\n",
       "  </tbody>\n",
       "</table>\n",
       "<p>5683 rows × 2 columns</p>\n",
       "</div>"
      ],
      "text/plain": [
       "                         fname            label\n",
       "0     8bcbcc394ba64fe85ed4.wav  Finger_snapping\n",
       "1     00d77b917e241afa06f1.wav           Squeak\n",
       "2     17bb93b73b8e79234cb3.wav   Electric_piano\n",
       "3     7d5c7a40a936136da55e.wav        Harmonica\n",
       "4     17e0ee7565a33d6c2326.wav       Snare_drum\n",
       "...                        ...              ...\n",
       "5678  edd5f2d5bdab597ab6f1.wav            Cello\n",
       "5679  cc489c6414c2c25bfa6d.wav          Shatter\n",
       "5680  ac3177fbe1f9b0155920.wav            Cello\n",
       "5681  9da56639ef3113293961.wav       Snare_drum\n",
       "5682  caa047e91afbea748125.wav             Fart\n",
       "\n",
       "[5683 rows x 2 columns]"
      ]
     },
     "execution_count": 3,
     "metadata": {
      "tags": []
     },
     "output_type": "execute_result"
    }
   ],
   "source": [
    "data"
   ]
  },
  {
   "cell_type": "code",
   "execution_count": 0,
   "metadata": {
    "colab": {},
    "colab_type": "code",
    "id": "c9aRFtHYBlpY"
   },
   "outputs": [],
   "source": [
    "# записываем имена файлов и имена классов в списки\n",
    "labels = list(data['label'])\n",
    "y = list(data['fname'])"
   ]
  },
  {
   "cell_type": "code",
   "execution_count": 0,
   "metadata": {
    "colab": {},
    "colab_type": "code",
    "id": "KsPwG0TvBlpe"
   },
   "outputs": [],
   "source": [
    "# проходимся по списку имен классов для записи уникальных имен в список\n",
    "labels_list = []\n",
    "for i in labels:\n",
    "    if i not in labels_list:\n",
    "        labels_list.append(i)"
   ]
  },
  {
   "cell_type": "code",
   "execution_count": 0,
   "metadata": {
    "colab": {},
    "colab_type": "code",
    "id": "1GMk1gU-Blt9",
    "outputId": "9682d9eb-cb2a-40b8-cf01-80654afbccd6"
   },
   "outputs": [
    {
     "name": "stdout",
     "output_type": "stream",
     "text": [
      "['Finger_snapping', 'Squeak', 'Electric_piano', 'Harmonica', 'Snare_drum', 'Trumpet', 'Computer_keyboard', 'Clarinet', 'Laughter', 'Tearing', 'Applause', 'Shatter', 'Knock', 'Bass_drum', 'Cowbell', 'Glockenspiel', 'Double_bass', 'Fireworks', 'Writing', 'Cough', 'Saxophone', 'Bark', 'Keys_jangling', 'Flute', 'Meow', 'Oboe', 'Cello', 'Hi-hat', 'Fart', 'Burping_or_eructation', 'Drawer_open_or_close', 'Microwave_oven', 'Acoustic_guitar', 'Tambourine', 'Gong', 'Violin_or_fiddle', 'Gunshot_or_gunfire', 'Telephone', 'Bus', 'Scissors', 'Chime']\n"
     ]
    }
   ],
   "source": [
    "# вывод уникальных имен\n",
    "print(labels_list)"
   ]
  },
  {
   "cell_type": "code",
   "execution_count": 0,
   "metadata": {
    "colab": {},
    "colab_type": "code",
    "id": "iwOokjczBluI"
   },
   "outputs": [],
   "source": [
    "# подгружаем каждый аудио-файл, через librosa извлекаем данные сигнала, записываем данные в список all_data,\n",
    "# записываем индексы классов в соответсвии с текущим именем класса в all_label\n",
    "path = 'C:/Users/ryumi/Downloads/audio_train/train/'\n",
    "\n",
    "all_data = []\n",
    "all_label = []\n",
    "\n",
    "for i in range(0, len(y)):\n",
    "    data, _ = librosa.load(path + y[i], sr = 8000)\n",
    "    all_data.append(data)\n",
    "    if labels[i] in labels_list:\n",
    "        all_label.append(labels_list.index(labels[i]))"
   ]
  },
  {
   "cell_type": "code",
   "execution_count": 0,
   "metadata": {
    "colab": {},
    "colab_type": "code",
    "id": "XxPLj1F-BluQ"
   },
   "outputs": [],
   "source": [
    "# сохраняем all_data и all_label в *.pickle\n",
    "with open(path + 'all_data.pickle', 'wb') as f_d:\n",
    "    pickle.dump(all_data, f_d)\n",
    "with open(path + 'all_label.pickle', 'wb') as f_l:\n",
    "    pickle.dump(all_label, f_l)"
   ]
  }
 ],
 "metadata": {
  "colab": {
   "collapsed_sections": [],
   "name": "laba_1_a_e_a_work_audio.ipynb",
   "provenance": [
    {
     "file_id": "https://github.com/ElenaRyumina/acoustic_event_analysis/blob/master/laba_1_a_e_a_work_audio.ipynb",
     "timestamp": 1584038049938
    }
   ]
  },
  "kernelspec": {
   "display_name": "Python 3",
   "language": "python",
   "name": "python3"
  },
  "language_info": {
   "codemirror_mode": {
    "name": "ipython",
    "version": 3
   },
   "file_extension": ".py",
   "mimetype": "text/x-python",
   "name": "python",
   "nbconvert_exporter": "python",
   "pygments_lexer": "ipython3",
   "version": "3.7.3"
  }
 },
 "nbformat": 4,
 "nbformat_minor": 1
}
